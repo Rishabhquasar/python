{
 "cells": [
  {
   "cell_type": "markdown",
   "metadata": {},
   "source": [
    "# 1. `if-elif-else`\n",
    "Fill missing pieces (`____`) of the following code such that prints make sense."
   ]
  },
  {
   "cell_type": "code",
   "execution_count": 1,
   "metadata": {
    "editable": false
   },
   "outputs": [],
   "source": [
    "name = 'John Doe'"
   ]
  },
  {
   "cell_type": "code",
   "execution_count": 4,
   "metadata": {},
   "outputs": [
    {
     "name": "stdout",
     "output_type": "stream",
     "text": [
      "Name \"John Doe\" is 8, 9 or 10 chars long\n"
     ]
    }
   ],
   "source": [
    "if len(name)>20:\n",
    "    print('Name \"{}\" is more than 20 chars long'.format(name))\n",
    "    length_description = 'long'\n",
    "elif len(name)>15:\n",
    "    print('Name \"{}\" is more than 15 chars long'.format(name))\n",
    "    length_description = 'semi long'\n",
    "elif len(name)>10:\n",
    "    print('Name \"{}\" is more than 10 chars long'.format(name))\n",
    "    length_description = 'semi long'\n",
    "elif len(name)==8 or len(name)==9 or len(name)==10:\n",
    "    print('Name \"{}\" is 8, 9 or 10 chars long'.format(name))\n",
    "    length_description = 'semi short'\n",
    "else:\n",
    "    print('Name \"{}\" is a short name'.format(name))\n",
    "    length_description = 'short'"
   ]
  },
  {
   "cell_type": "code",
   "execution_count": 3,
   "metadata": {
    "editable": false
   },
   "outputs": [],
   "source": [
    "assert length_description == 'semi short'"
   ]
  }
 ],
 "metadata": {
  "kernelspec": {
   "display_name": "Python 3.9.7 64-bit",
   "language": "python",
   "name": "python3"
  },
  "language_info": {
   "codemirror_mode": {
    "name": "ipython",
    "version": 3
   },
   "file_extension": ".py",
   "mimetype": "text/x-python",
   "name": "python",
   "nbconvert_exporter": "python",
   "pygments_lexer": "ipython3",
   "version": "3.9.7"
  },
  "vscode": {
   "interpreter": {
    "hash": "f6246b25e200e4c5124e3e61789ac81350562f0761bbcf92ad9e48654207659c"
   }
  }
 },
 "nbformat": 4,
 "nbformat_minor": 2
}
